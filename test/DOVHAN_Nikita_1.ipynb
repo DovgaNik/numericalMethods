{
 "cells": [
  {
   "cell_type": "markdown",
   "metadata": {},
   "source": [
    "Nikita DOVHAN\n",
    "===\n",
    "Section 1\n",
    "---"
   ]
  },
  {
   "cell_type": "code",
   "execution_count": 4,
   "metadata": {},
   "outputs": [],
   "source": [
    "import numpy as np\n",
    "import matplotlib.pyplot as plt"
   ]
  },
  {
   "cell_type": "markdown",
   "metadata": {},
   "source": [
    "Section 1, task 1, relative_error"
   ]
  },
  {
   "cell_type": "code",
   "execution_count": 5,
   "metadata": {},
   "outputs": [],
   "source": [
    "def relative_error(true_value, approx_value):\n",
    "    return np.abs((true_value - approx_value) / true_value)"
   ]
  },
  {
   "cell_type": "markdown",
   "metadata": {},
   "source": [
    "Section 1, task 2, find vector x such as Ax = b\n",
    "\n",
    "3*3 matrix and 3*1 vector\n",
    "\n",
    "matrixA = [\n",
    "    [1, 2, 3], \n",
    "    [4, 5, 6],\n",
    "    [7, 8, 8]]\n",
    "vectorb = [1, 2, 3]\n",
    "\n"
   ]
  },
  {
   "cell_type": "code",
   "execution_count": 6,
   "metadata": {},
   "outputs": [],
   "source": [
    "matrixA = np.array([[1, 2, 3], [4, 5, 6],[7, 8, 8]])\n",
    "vectorb = np.array([1, 2, 3])\n",
    "\n",
    "def find_vector_x (matrixA, vectorb):\n",
    "    vectorx = np.linalg.solve(matrixA, vectorb)\n",
    "    \n",
    "find_vector_x(matrixA, vectorb)"
   ]
  },
  {
   "cell_type": "markdown",
   "metadata": {},
   "source": [
    "Section 1, task 3, bisection_method"
   ]
  },
  {
   "cell_type": "code",
   "execution_count": 7,
   "metadata": {},
   "outputs": [],
   "source": [
    "def bisection_method(func, a, b, tolerance):\n",
    "    if func(a) * func(b) >= 0:\n",
    "        print(\"Fail\")\n",
    "        return None\n",
    "    \n",
    "    else:\n",
    "        while (b - a) / 2 > tolerance:\n",
    "            m = (a + b) / 2\n",
    "\n",
    "            if func(m) == 0:\n",
    "                return m\n",
    "            \n",
    "            elif func(a) * func(m) < 0:\n",
    "                b = m\n",
    "\n",
    "            else:\n",
    "                a = m\n",
    "\n",
    "        return m"
   ]
  },
  {
   "cell_type": "markdown",
   "metadata": {},
   "source": [
    "Section 1, task 4, euler method\n",
    "\n",
    "formula\n",
    "---\n",
    "yn+1 = yn + h * func(x, y)"
   ]
  },
  {
   "cell_type": "code",
   "execution_count": null,
   "metadata": {},
   "outputs": [],
   "source": [
    "def euler_method(func, y0, x0, h, n):\n",
    "    x = x0\n",
    "    y = y0\n",
    "\n",
    "    for i in range(n):\n",
    "        y = y + h * func(x, y)\n",
    "        x += h\n",
    "\n",
    "    return y"
   ]
  }
 ],
 "metadata": {
  "kernelspec": {
   "display_name": "Python 3",
   "language": "python",
   "name": "python3"
  },
  "language_info": {
   "codemirror_mode": {
    "name": "ipython",
    "version": 3
   },
   "file_extension": ".py",
   "mimetype": "text/x-python",
   "name": "python",
   "nbconvert_exporter": "python",
   "pygments_lexer": "ipython3",
   "version": "3.12.0"
  }
 },
 "nbformat": 4,
 "nbformat_minor": 2
}
