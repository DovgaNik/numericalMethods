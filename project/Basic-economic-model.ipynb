{
 "cells": [
  {
   "cell_type": "markdown",
   "metadata": {},
   "source": [
    "Project: Basic Economic Model\n",
    "===\n",
    "Nikita DOVHAN\n",
    "\n",
    "\n"
   ]
  },
  {
   "cell_type": "code",
   "execution_count": 242,
   "metadata": {},
   "outputs": [],
   "source": [
    "import numpy as np\n",
    "import matplotlib.pyplot as plt"
   ]
  },
  {
   "cell_type": "markdown",
   "metadata": {},
   "source": [
    "TASK\n",
    "===\n",
    "\n",
    "Create a simulation of a simple market where agents are consumers and producers, demonstrating basic economic principles like supply and demand.\n",
    "\n",
    "The Basic Economic Market Model project involves creating a simplified simulation of a market economy, where agents act as consumers and producers. This project is a great introduction to agent-based modelling in economics, illustrating fundamental economic principles like supply and demand, price mechanisms, and market equilibrium. Here is an in-depth description:\n",
    "\n",
    "Objective\n",
    "\n",
    "To simulate a basic market economy where individual agents act as producers and consumers. The goal is to observe how market prices, supply, and demand evolve over time based on the interactions between these agents and their decision-making processes.\n",
    "\n",
    "Model Description\n",
    "\n",
    "Agents\n",
    "\n",
    "* Producers: Create goods or services. They decide on quantities to produce and at what price to sell based on production costs and market demand.\n",
    "\n",
    "* Consumers: Purchase goods or services based on their preferences, needs, and the market price.\n",
    "\n",
    "Environment\n",
    "\n",
    "* A virtual marketplace where transactions between producers and consumers takes place.\n",
    "\n",
    "* The environment can be abstract without a physical space representation, focusing instead on the dynamics of price and quantity.\n",
    "\n",
    "Rules\n",
    "\n",
    "* Supply and Demand Dynamics: Producers adjust their supply based on the market price, and consumers adjust their demand based on their utility and the price.\n",
    "\n",
    "* Price Adjustment: The market price can adjust based on the aggregate supply and demand.\n",
    "\n",
    "* Economic Constraints: Consumers have budget constraints, and producers have production limits.\n",
    "\n",
    "Initial Conditions\n",
    "\n",
    "* Define initial quantities and prices for the goods or services.\n",
    "\n",
    "* Set initial economic conditions for the agents, such as initial budgets for consumers and initial production capacities for producers.\n",
    "\n",
    "Simulation Loop\n",
    "\n",
    "* At each time step, producers and consumers make decisions based on current market conditions.\n",
    "\n",
    "* Update the market price based on the total supply and demand.\n",
    "\n",
    "* Update the state of each agent (e.g., producers’ inventory and consumers’ budget) post transactions.\n",
    "\n",
    "Data Collection\n",
    "\n",
    "* Track changes in market prices, supply, and demand over time.\n",
    "\n",
    "* Analyse patterns such as market equilibrium, shortages, or surpluses.\n",
    "\n",
    "Tools and Libraries\n",
    "\n",
    "* Python, as the programming language, is ideal for this simulation.\n",
    "\n",
    "* NumPy for numerical calculations, especially for handling large arrays of agent data.\n",
    "\n",
    "* Matplotlib or Seaborn for visualizing market trends and agent behaviours over time.\n",
    "\n",
    "Outcome\n",
    "\n",
    "The simulation should depict how market dynamics evolve from the interaction of supply and demand.\n",
    "\n",
    "You can observe how prices fluctuate to balance supply and demand and reach a market equilibrium under various scenarios.\n",
    "\n",
    "The model can be used to study the impact of different economic policies, such as taxes or subsidies, on the market.\n",
    "\n",
    "The Basic Economic Market Model project provides you with an understanding of how individual decisions collectively impact the economy. It serves as an excellent tool for visualizing and understanding economic concepts and the functioning of markets. "
   ]
  },
  {
   "cell_type": "code",
   "execution_count": 243,
   "metadata": {},
   "outputs": [],
   "source": [
    "transactions = [] # price and date\n",
    "\n",
    "p0 = 100\n",
    "q0 = 10\n",
    "budget = 300\n",
    "prod_cap = 3\n",
    "prod = 5\n",
    "cons = 5\n",
    "want = 0.3\n",
    "salary = 70\n",
    "\n",
    "N = 15"
   ]
  },
  {
   "cell_type": "code",
   "execution_count": 244,
   "metadata": {},
   "outputs": [
    {
     "data": {
      "text/plain": [
       "[[2, 85], [4, 82], [3, 86], [3, 88], [2, 85]]"
      ]
     },
     "execution_count": 244,
     "metadata": {},
     "output_type": "execute_result"
    }
   ],
   "source": [
    "producers = [] # have production limits and production costs\n",
    "\n",
    "for _ in range(prod):\n",
    "    costs = p0 + np.random.randint(0, 21) - 10 - 20\n",
    "    cap = prod_cap + np.random.randint(0, 3) - 1\n",
    "    producers.append([cap, costs])\n",
    "producers"
   ]
  },
  {
   "cell_type": "code",
   "execution_count": 245,
   "metadata": {},
   "outputs": [
    {
     "data": {
      "text/plain": [
       "[[0.88, 8, 276], [0.25, 2, 314], [0.41, 3, 336], [0.1, 4, 339], [0.55, 9, 304]]"
      ]
     },
     "execution_count": 245,
     "metadata": {},
     "output_type": "execute_result"
    }
   ],
   "source": [
    "consumers = [] # have budget, preferences, needs\n",
    "\n",
    "for _ in range(cons):\n",
    "    pref = np.random.randint(0, 101) / 100\n",
    "    needs = np.random.randint(0, 10)\n",
    "    budg = budget + np.random.randint(0, 101) - 50\n",
    "    consumers.append([pref, needs, budg])\n",
    "consumers"
   ]
  },
  {
   "cell_type": "code",
   "execution_count": 246,
   "metadata": {},
   "outputs": [
    {
     "data": {
      "text/plain": [
       "[95, 97, 108, 106, 107, 107, 102, 107, 104, 109]"
      ]
     },
     "execution_count": 246,
     "metadata": {},
     "output_type": "execute_result"
    }
   ],
   "source": [
    "market = [] # all goods on market, have their price\n",
    "\n",
    "for _ in range(q0):\n",
    "    price = p0 + np.random.randint(0, 21) - 10\n",
    "    market.append(price)\n",
    "\n",
    "market"
   ]
  },
  {
   "cell_type": "code",
   "execution_count": 247,
   "metadata": {},
   "outputs": [],
   "source": [
    "history = []\n",
    "\n",
    "for j in range(N):\n",
    "\n",
    "    for i in range(len(consumers)):\n",
    "        preference = consumers[i][0]\n",
    "        needs = consumers[i][1]\n",
    "        budget = consumers[i][2]\n",
    "\n",
    "        minimal_price = min(market)\n",
    "\n",
    "        percentage_of_budget = budget / minimal_price\n",
    "        want_to_buy = needs * preference / percentage_of_budget\n",
    "        #print(f\"want to buy is {want_to_buy}\")\n",
    "\n",
    "        if want_to_buy > want and budget > minimal_price:\n",
    "            #print(f\"buying {minimal_price}\")\n",
    "            consumers[i][2] -= minimal_price + salary\n",
    "            market.remove(minimal_price)\n",
    "            transactions.append([minimal_price, j])\n",
    "\n",
    "\n",
    "            for u in range(len(market)):\n",
    "                perc = market[u] * 0.1\n",
    "                market[u] += np.random.randint(0, int(perc) + 1)\n",
    "\n",
    "\n",
    "            producers[np.random.randint(0, len(producers))][0] += 1\n",
    "\n",
    "            if len(market) == 0:\n",
    "                break\n",
    "    #print(market)\n",
    "    #print(transactions)\n",
    "\n",
    "    for i in range(len(producers)):\n",
    "        cap = producers[i][0]\n",
    "        costs = producers[i][1]\n",
    "        if cap > 0:\n",
    "            cost = 0\n",
    "            market_mean = np.mean(market)\n",
    "            if costs > market_mean:\n",
    "                continue\n",
    "            else:\n",
    "                cost = market_mean + np.random.randint(0, 11) - 5\n",
    "            producers[i][0] -= 1\n",
    "            market.append(cost)\n",
    "    #print(market)  \n",
    "    history.append(market.copy())\n",
    "\n",
    "\n",
    "    for i in range(len(market)):\n",
    "        sum_of_needs = 0\n",
    "\n",
    "        for h in range(len(consumers)):\n",
    "            sum_of_needs += consumers[h][1]\n",
    "\n",
    "        if len(market) > sum_of_needs:\n",
    "            #market.remove(max(market))\n",
    "\n",
    "            for u in range(len(market)):\n",
    "                if market[u] > 70:\n",
    "                    perc = market[u] * 0.01\n",
    "                    market[u] += np.random.randint(0, int(perc) + 1) - perc - 1\n",
    "\n",
    "        "
   ]
  },
  {
   "cell_type": "code",
   "execution_count": 248,
   "metadata": {},
   "outputs": [
    {
     "data": {
      "image/png": "[encoded data removed]",
      "text/plain": [
       "<Figure size 640x480 with 1 Axes>"
      ]
     },
     "metadata": {},
     "output_type": "display_data"
    }
   ],
   "source": [
    "averages = []\n",
    "for i in range(len(history)):\n",
    "    averages.append(np.mean(history[i]))\n",
    "\n",
    "amount_of_goods = []\n",
    "\n",
    "for i in range(len(history)):\n",
    "    amount_of_goods.append(len(history[i]))\n",
    "\n",
    "_ = plt.plot(averages)\n",
    "plt.plot(amount_of_goods)\n",
    "plt.scatter(range(len(averages)), averages)\n",
    "plt.show()"
   ]
  }
 ],
 "metadata": {
  "kernelspec": {
   "display_name": "Python 3",
   "language": "python",
   "name": "python3"
  },
  "language_info": {
   "codemirror_mode": {
    "name": "ipython",
    "version": 3
   },
   "file_extension": ".py",
   "mimetype": "text/x-python",
   "name": "python",
   "nbconvert_exporter": "python",
   "pygments_lexer": "ipython3",
   "version": "3.12.0"
  }
 },
 "nbformat": 4,
 "nbformat_minor": 2
}
